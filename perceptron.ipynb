{
  "nbformat": 4,
  "nbformat_minor": 0,
  "metadata": {
    "colab": {
      "name": "perceptron.ipynb",
      "provenance": [],
      "collapsed_sections": [],
      "mount_file_id": "1gdKnACPCprDzJ0RsssDroI_E6c6al8HO",
      "authorship_tag": "ABX9TyMuAu3EYwcjJ1ExRocA4zt3",
      "include_colab_link": true
    },
    "kernelspec": {
      "name": "python3",
      "display_name": "Python 3"
    },
    "language_info": {
      "name": "python"
    }
  },
  "cells": [
    {
      "cell_type": "markdown",
      "metadata": {
        "id": "view-in-github",
        "colab_type": "text"
      },
      "source": [
        "<a href=\"https://colab.research.google.com/github/Sagar-modelling/Machine_Learning_Totorials/blob/main/perceptron.ipynb\" target=\"_parent\"><img src=\"https://colab.research.google.com/assets/colab-badge.svg\" alt=\"Open In Colab\"/></a>"
      ]
    },
    {
      "cell_type": "code",
      "metadata": {
        "id": "ZTpz-kNnZ3Gk"
      },
      "source": [
        "ROOT = '/content/drive/MyDrive/perceptron python'"
      ],
      "execution_count": 1,
      "outputs": []
    },
    {
      "cell_type": "code",
      "metadata": {
        "id": "4yxtfPQxaTiP"
      },
      "source": [
        "import os\n",
        "os.chdir(ROOT)"
      ],
      "execution_count": 5,
      "outputs": []
    },
    {
      "cell_type": "code",
      "metadata": {
        "colab": {
          "base_uri": "https://localhost:8080/"
        },
        "id": "0MGZhmboasGF",
        "outputId": "46133a1c-925d-4f1c-8c41-2d93ffd2d5ed"
      },
      "source": [
        "!ls"
      ],
      "execution_count": 3,
      "outputs": [
        {
          "output_type": "stream",
          "name": "stdout",
          "text": [
            "models\tperceptron.ipynb  test.txt\n"
          ]
        }
      ]
    },
    {
      "cell_type": "code",
      "metadata": {
        "colab": {
          "base_uri": "https://localhost:8080/",
          "height": 35
        },
        "id": "GUgMxhGJa0zH",
        "outputId": "9f3ae6f9-1f6e-4136-e4b9-6396ea9a7e6b"
      },
      "source": [
        "assert ROOT == os.getcwd()\n",
        "os.getcwd()"
      ],
      "execution_count": 6,
      "outputs": [
        {
          "output_type": "execute_result",
          "data": {
            "application/vnd.google.colaboratory.intrinsic+json": {
              "type": "string"
            },
            "text/plain": [
              "'/content/drive/MyDrive/perceptron python'"
            ]
          },
          "metadata": {},
          "execution_count": 6
        }
      ]
    },
    {
      "cell_type": "code",
      "metadata": {
        "id": "cI5vFZplbKYa"
      },
      "source": [
        "with open('test.txt', \"w\") as f:\n",
        "  f.writelines(\"Sagar Modelling\")"
      ],
      "execution_count": 7,
      "outputs": []
    },
    {
      "cell_type": "markdown",
      "metadata": {
        "id": "U3d3M20UcM4n"
      },
      "source": [
        "## \"Perceptron Implementation\""
      ]
    },
    {
      "cell_type": "code",
      "metadata": {
        "id": "ksaLzMBKcLY9"
      },
      "source": [
        "import matplotlib.pyplot as plt\n",
        "import numpy as np\n",
        "import pandas as pd\n",
        "import joblib #for saving model as a binary file\n",
        "from matplotlib.colors import ListedColormap\n",
        "plt.style.use(\"fivethirtyeight\") #style of graphs"
      ],
      "execution_count": 8,
      "outputs": []
    },
    {
      "cell_type": "code",
      "metadata": {
        "id": "Egsa67VrdiBl"
      },
      "source": [
        "class Perceptron:\n",
        "  def __init__(self,lr,epochs):\n",
        "    np.random.seed(42)\n",
        "    self.weights = np.random.randn(3) * 10**-4\n",
        "    print(f\"intial weights brfore training: {self.weights}\")\n",
        "    self.lr = lr\n",
        "    self.epochs = epochs    #self declares variable as global for all the methods\n",
        "\n",
        "  def activationFunction(self,inputs,weights): \n",
        "    z = np.dot(inputs,weights)\n",
        "    return np.where(z>0, 1,0)\n",
        "  \n",
        "  def fit(self, X, y):\n",
        "    self.X = X \n",
        "    self.y = y\n",
        "\n",
        "    X_with_bias = np.c_[self.X, -np.ones((len(self.X), 1))] #concatenation of X and bias \n",
        "    print(f\"X with bias: {X_with_bias}\")\n",
        "\n",
        "    for epoch in range(self.epochs):\n",
        "      print(\"--\"*10)\n",
        "      print(f\"for epoch: {epoch}\")\n",
        "      print(\"--\"*10)\n",
        "\n",
        "      y_hat = self.activationFunction(X_with_bias, self.weights) #forward propogation\n",
        "      print(f\"prdicted value after forward pass: \\n{y_hat}\")\n",
        "      self.error = self.y - y_hat\n",
        "      print(f\"error : \\n{self.error}\")\n",
        "      self.weights = self.weights + self.lr * np.dot(X_with_bias.T, self.error) #backward propogation\n",
        "      print(f\"updated weights after epoch : \\n{epoch}/{self.epochs} : \\n{self.weights}\")\n",
        "      print(\"######\"*10)\n",
        "\n",
        "  def predict(self, X):\n",
        "    X_with_bias = np.c_[X, -np.ones((len(X), 1))]\n",
        "    return self.activationFunction(X_with_bias, self.weights)\n",
        "\n",
        "  def total_loss(self):\n",
        "    total_loss = np.sum(self.error)\n",
        "    print(f\"total loss : {total_loss}\")\n",
        "    return total_loss\n"
      ],
      "execution_count": 9,
      "outputs": []
    },
    {
      "cell_type": "code",
      "metadata": {
        "colab": {
          "base_uri": "https://localhost:8080/",
          "height": 175
        },
        "id": "X_gp91nwvIc9",
        "outputId": "f155686a-e452-4521-9db4-460d6e74b948"
      },
      "source": [
        "AND = {\n",
        "      \"x1\" : [0,0,1,1],\n",
        "      \"x2\" : [0,1,0,1],\n",
        "      \"y\" : [0,0,0,1],\n",
        "\n",
        "}\n",
        "df = pd.DataFrame(AND)\n",
        "df"
      ],
      "execution_count": 10,
      "outputs": [
        {
          "output_type": "execute_result",
          "data": {
            "text/html": [
              "<div>\n",
              "<style scoped>\n",
              "    .dataframe tbody tr th:only-of-type {\n",
              "        vertical-align: middle;\n",
              "    }\n",
              "\n",
              "    .dataframe tbody tr th {\n",
              "        vertical-align: top;\n",
              "    }\n",
              "\n",
              "    .dataframe thead th {\n",
              "        text-align: right;\n",
              "    }\n",
              "</style>\n",
              "<table border=\"1\" class=\"dataframe\">\n",
              "  <thead>\n",
              "    <tr style=\"text-align: right;\">\n",
              "      <th></th>\n",
              "      <th>x1</th>\n",
              "      <th>x2</th>\n",
              "      <th>y</th>\n",
              "    </tr>\n",
              "  </thead>\n",
              "  <tbody>\n",
              "    <tr>\n",
              "      <th>0</th>\n",
              "      <td>0</td>\n",
              "      <td>0</td>\n",
              "      <td>0</td>\n",
              "    </tr>\n",
              "    <tr>\n",
              "      <th>1</th>\n",
              "      <td>0</td>\n",
              "      <td>1</td>\n",
              "      <td>0</td>\n",
              "    </tr>\n",
              "    <tr>\n",
              "      <th>2</th>\n",
              "      <td>1</td>\n",
              "      <td>0</td>\n",
              "      <td>0</td>\n",
              "    </tr>\n",
              "    <tr>\n",
              "      <th>3</th>\n",
              "      <td>1</td>\n",
              "      <td>1</td>\n",
              "      <td>1</td>\n",
              "    </tr>\n",
              "  </tbody>\n",
              "</table>\n",
              "</div>"
            ],
            "text/plain": [
              "   x1  x2  y\n",
              "0   0   0  0\n",
              "1   0   1  0\n",
              "2   1   0  0\n",
              "3   1   1  1"
            ]
          },
          "metadata": {},
          "execution_count": 10
        }
      ]
    },
    {
      "cell_type": "code",
      "metadata": {
        "id": "zrWkQXV40LXs"
      },
      "source": [
        "def prepare_data(df):\n",
        "  X = df.drop(\"y\", axis=1)\n",
        "\n",
        "  y= df[\"y\"]\n",
        "  return X,y"
      ],
      "execution_count": 94,
      "outputs": []
    },
    {
      "cell_type": "code",
      "metadata": {
        "colab": {
          "base_uri": "https://localhost:8080/"
        },
        "id": "k7ZVp3CvwWUr",
        "outputId": "8ef94632-4c24-499a-c896-bb61dd4e3c06"
      },
      "source": [
        "X,y = prepare_data(df)\n",
        "\n",
        "LR = 0.3\n",
        "EPOCHS = 4\n",
        "\n",
        "model = Perceptron(lr=LR, epochs=EPOCHS)\n",
        "model.fit(X, y)\n",
        "\n",
        "_ = model.total_loss()"
      ],
      "execution_count": 12,
      "outputs": [
        {
          "output_type": "stream",
          "name": "stdout",
          "text": [
            "intial weights brfore training: [ 4.96714153e-05 -1.38264301e-05  6.47688538e-05]\n",
            "X with bias: [[ 0.  0. -1.]\n",
            " [ 0.  1. -1.]\n",
            " [ 1.  0. -1.]\n",
            " [ 1.  1. -1.]]\n",
            "--------------------\n",
            "for epoch: 0\n",
            "--------------------\n",
            "prdicted value after forward pass: \n",
            "[0 0 0 0]\n",
            "error : \n",
            "0    0\n",
            "1    0\n",
            "2    0\n",
            "3    1\n",
            "Name: y, dtype: int64\n",
            "updated weights after epoch : \n",
            "0/4 : \n",
            "[ 0.30004967  0.29998617 -0.29993523]\n",
            "############################################################\n",
            "--------------------\n",
            "for epoch: 1\n",
            "--------------------\n",
            "prdicted value after forward pass: \n",
            "[1 1 1 1]\n",
            "error : \n",
            "0   -1\n",
            "1   -1\n",
            "2   -1\n",
            "3    0\n",
            "Name: y, dtype: int64\n",
            "updated weights after epoch : \n",
            "1/4 : \n",
            "[ 4.96714153e-05 -1.38264301e-05  6.00064769e-01]\n",
            "############################################################\n",
            "--------------------\n",
            "for epoch: 2\n",
            "--------------------\n",
            "prdicted value after forward pass: \n",
            "[0 0 0 0]\n",
            "error : \n",
            "0    0\n",
            "1    0\n",
            "2    0\n",
            "3    1\n",
            "Name: y, dtype: int64\n",
            "updated weights after epoch : \n",
            "2/4 : \n",
            "[0.30004967 0.29998617 0.30006477]\n",
            "############################################################\n",
            "--------------------\n",
            "for epoch: 3\n",
            "--------------------\n",
            "prdicted value after forward pass: \n",
            "[0 0 0 1]\n",
            "error : \n",
            "0    0\n",
            "1    0\n",
            "2    0\n",
            "3    0\n",
            "Name: y, dtype: int64\n",
            "updated weights after epoch : \n",
            "3/4 : \n",
            "[0.30004967 0.29998617 0.30006477]\n",
            "############################################################\n",
            "total loss : 0\n"
          ]
        }
      ]
    },
    {
      "cell_type": "code",
      "metadata": {
        "colab": {
          "base_uri": "https://localhost:8080/"
        },
        "id": "LhtEay056ZPP",
        "outputId": "3f940436-c68a-48e2-efe1-6b1330325a01"
      },
      "source": [
        "X.values"
      ],
      "execution_count": 13,
      "outputs": [
        {
          "output_type": "execute_result",
          "data": {
            "text/plain": [
              "array([[0, 0],\n",
              "       [0, 1],\n",
              "       [1, 0],\n",
              "       [1, 1]])"
            ]
          },
          "metadata": {},
          "execution_count": 13
        }
      ]
    },
    {
      "cell_type": "code",
      "metadata": {
        "colab": {
          "base_uri": "https://localhost:8080/"
        },
        "id": "CSGGFvc06g-m",
        "outputId": "63fa1bbb-5dfb-40a4-eae4-b67b7b30e87a"
      },
      "source": [
        "y.values"
      ],
      "execution_count": 14,
      "outputs": [
        {
          "output_type": "execute_result",
          "data": {
            "text/plain": [
              "array([0, 0, 0, 1])"
            ]
          },
          "metadata": {},
          "execution_count": 14
        }
      ]
    },
    {
      "cell_type": "code",
      "metadata": {
        "colab": {
          "base_uri": "https://localhost:8080/"
        },
        "id": "A2jXcUpR6Ou-",
        "outputId": "fa52bd64-6c5a-4c97-d563-c41a875440a5"
      },
      "source": [
        "inputs = np.array([[1,1],[0,0]])\n",
        "model.predict(inputs)"
      ],
      "execution_count": 15,
      "outputs": [
        {
          "output_type": "execute_result",
          "data": {
            "text/plain": [
              "array([1, 0])"
            ]
          },
          "metadata": {},
          "execution_count": 15
        }
      ]
    },
    {
      "cell_type": "code",
      "metadata": {
        "id": "Ht7IkCqo9d2X"
      },
      "source": [
        "def save_model(model,filename):\n",
        "  model_dir  = \"models\"\n",
        "  os.makedirs(model_dir, exist_ok=True)\n",
        "  filepath = os.path.join(model_dir, filename)#models/filename\n",
        "  joblib.dump(model, filepath) "
      ],
      "execution_count": 16,
      "outputs": []
    },
    {
      "cell_type": "code",
      "metadata": {
        "id": "rTwphpwD-qgY"
      },
      "source": [
        "save_model(model, \"and.model\")"
      ],
      "execution_count": 17,
      "outputs": []
    },
    {
      "cell_type": "code",
      "metadata": {
        "colab": {
          "base_uri": "https://localhost:8080/"
        },
        "id": "G_dNHWRE_ON6",
        "outputId": "88e45319-2ace-4a96-c2db-9b195caf2197"
      },
      "source": [
        "loaded_model = joblib.load('/content/drive/MyDrive/perceptron python/models/and.model')\n",
        "loaded_model.predict(inputs)"
      ],
      "execution_count": 18,
      "outputs": [
        {
          "output_type": "execute_result",
          "data": {
            "text/plain": [
              "array([1, 0])"
            ]
          },
          "metadata": {},
          "execution_count": 18
        }
      ]
    },
    {
      "cell_type": "code",
      "metadata": {
        "id": "_Dwkj4iI_nFI",
        "colab": {
          "base_uri": "https://localhost:8080/",
          "height": 175
        },
        "outputId": "219c3a6c-8b4e-4889-c007-d51cfce6d3c6"
      },
      "source": [
        "OR = {\"x1\" : [0,0,1,1],\n",
        "      \"x2\" : [0,1,0,1],\n",
        "      \"y\"  : [0,1,1,1]\n",
        "}\n",
        "df = pd.DataFrame(OR)\n",
        "df"
      ],
      "execution_count": 20,
      "outputs": [
        {
          "output_type": "execute_result",
          "data": {
            "text/html": [
              "<div>\n",
              "<style scoped>\n",
              "    .dataframe tbody tr th:only-of-type {\n",
              "        vertical-align: middle;\n",
              "    }\n",
              "\n",
              "    .dataframe tbody tr th {\n",
              "        vertical-align: top;\n",
              "    }\n",
              "\n",
              "    .dataframe thead th {\n",
              "        text-align: right;\n",
              "    }\n",
              "</style>\n",
              "<table border=\"1\" class=\"dataframe\">\n",
              "  <thead>\n",
              "    <tr style=\"text-align: right;\">\n",
              "      <th></th>\n",
              "      <th>x1</th>\n",
              "      <th>x2</th>\n",
              "      <th>y</th>\n",
              "    </tr>\n",
              "  </thead>\n",
              "  <tbody>\n",
              "    <tr>\n",
              "      <th>0</th>\n",
              "      <td>0</td>\n",
              "      <td>0</td>\n",
              "      <td>0</td>\n",
              "    </tr>\n",
              "    <tr>\n",
              "      <th>1</th>\n",
              "      <td>0</td>\n",
              "      <td>1</td>\n",
              "      <td>1</td>\n",
              "    </tr>\n",
              "    <tr>\n",
              "      <th>2</th>\n",
              "      <td>1</td>\n",
              "      <td>0</td>\n",
              "      <td>1</td>\n",
              "    </tr>\n",
              "    <tr>\n",
              "      <th>3</th>\n",
              "      <td>1</td>\n",
              "      <td>1</td>\n",
              "      <td>1</td>\n",
              "    </tr>\n",
              "  </tbody>\n",
              "</table>\n",
              "</div>"
            ],
            "text/plain": [
              "   x1  x2  y\n",
              "0   0   0  0\n",
              "1   0   1  1\n",
              "2   1   0  1\n",
              "3   1   1  1"
            ]
          },
          "metadata": {},
          "execution_count": 20
        }
      ]
    },
    {
      "cell_type": "code",
      "metadata": {
        "colab": {
          "base_uri": "https://localhost:8080/"
        },
        "id": "578Nm2j9AmEc",
        "outputId": "5389e139-43fe-408a-9003-45b5af60df7d"
      },
      "source": [
        "X,y = prepare_data(df)\n",
        "\n",
        "LR = 0.3\n",
        "EPOCHS = 5\n",
        "\n",
        "model_OR = Perceptron(lr=LR, epochs=EPOCHS)\n",
        "model_OR.fit(X, y)\n",
        "\n",
        "_ = model_OR.total_loss()"
      ],
      "execution_count": 22,
      "outputs": [
        {
          "output_type": "stream",
          "name": "stdout",
          "text": [
            "intial weights brfore training: [ 4.96714153e-05 -1.38264301e-05  6.47688538e-05]\n",
            "X with bias: [[ 0.  0. -1.]\n",
            " [ 0.  1. -1.]\n",
            " [ 1.  0. -1.]\n",
            " [ 1.  1. -1.]]\n",
            "--------------------\n",
            "for epoch: 0\n",
            "--------------------\n",
            "prdicted value after forward pass: \n",
            "[0 0 0 0]\n",
            "error : \n",
            "0    0\n",
            "1    1\n",
            "2    1\n",
            "3    1\n",
            "Name: y, dtype: int64\n",
            "updated weights after epoch : \n",
            "0/5 : \n",
            "[ 0.60004967  0.59998617 -0.89993523]\n",
            "############################################################\n",
            "--------------------\n",
            "for epoch: 1\n",
            "--------------------\n",
            "prdicted value after forward pass: \n",
            "[1 1 1 1]\n",
            "error : \n",
            "0   -1\n",
            "1    0\n",
            "2    0\n",
            "3    0\n",
            "Name: y, dtype: int64\n",
            "updated weights after epoch : \n",
            "1/5 : \n",
            "[ 0.60004967  0.59998617 -0.59993523]\n",
            "############################################################\n",
            "--------------------\n",
            "for epoch: 2\n",
            "--------------------\n",
            "prdicted value after forward pass: \n",
            "[1 1 1 1]\n",
            "error : \n",
            "0   -1\n",
            "1    0\n",
            "2    0\n",
            "3    0\n",
            "Name: y, dtype: int64\n",
            "updated weights after epoch : \n",
            "2/5 : \n",
            "[ 0.60004967  0.59998617 -0.29993523]\n",
            "############################################################\n",
            "--------------------\n",
            "for epoch: 3\n",
            "--------------------\n",
            "prdicted value after forward pass: \n",
            "[1 1 1 1]\n",
            "error : \n",
            "0   -1\n",
            "1    0\n",
            "2    0\n",
            "3    0\n",
            "Name: y, dtype: int64\n",
            "updated weights after epoch : \n",
            "3/5 : \n",
            "[6.00049671e-01 5.99986174e-01 6.47688538e-05]\n",
            "############################################################\n",
            "--------------------\n",
            "for epoch: 4\n",
            "--------------------\n",
            "prdicted value after forward pass: \n",
            "[0 1 1 1]\n",
            "error : \n",
            "0    0\n",
            "1    0\n",
            "2    0\n",
            "3    0\n",
            "Name: y, dtype: int64\n",
            "updated weights after epoch : \n",
            "4/5 : \n",
            "[6.00049671e-01 5.99986174e-01 6.47688538e-05]\n",
            "############################################################\n",
            "total loss : 0\n"
          ]
        }
      ]
    },
    {
      "cell_type": "code",
      "metadata": {
        "colab": {
          "base_uri": "https://localhost:8080/",
          "height": 175
        },
        "id": "OxwyEL3uBTnZ",
        "outputId": "3359365b-6e74-47a0-97ea-e2d2f031a53a"
      },
      "source": [
        "XOR = {\"x1\" : [0,0,1,1],\n",
        "      \"x2\" : [0,1,0,1],\n",
        "      \"y\"  : [0,1,1,0]\n",
        "}\n",
        "df = pd.DataFrame(XOR)\n",
        "df"
      ],
      "execution_count": 23,
      "outputs": [
        {
          "output_type": "execute_result",
          "data": {
            "text/html": [
              "<div>\n",
              "<style scoped>\n",
              "    .dataframe tbody tr th:only-of-type {\n",
              "        vertical-align: middle;\n",
              "    }\n",
              "\n",
              "    .dataframe tbody tr th {\n",
              "        vertical-align: top;\n",
              "    }\n",
              "\n",
              "    .dataframe thead th {\n",
              "        text-align: right;\n",
              "    }\n",
              "</style>\n",
              "<table border=\"1\" class=\"dataframe\">\n",
              "  <thead>\n",
              "    <tr style=\"text-align: right;\">\n",
              "      <th></th>\n",
              "      <th>x1</th>\n",
              "      <th>x2</th>\n",
              "      <th>y</th>\n",
              "    </tr>\n",
              "  </thead>\n",
              "  <tbody>\n",
              "    <tr>\n",
              "      <th>0</th>\n",
              "      <td>0</td>\n",
              "      <td>0</td>\n",
              "      <td>0</td>\n",
              "    </tr>\n",
              "    <tr>\n",
              "      <th>1</th>\n",
              "      <td>0</td>\n",
              "      <td>1</td>\n",
              "      <td>1</td>\n",
              "    </tr>\n",
              "    <tr>\n",
              "      <th>2</th>\n",
              "      <td>1</td>\n",
              "      <td>0</td>\n",
              "      <td>1</td>\n",
              "    </tr>\n",
              "    <tr>\n",
              "      <th>3</th>\n",
              "      <td>1</td>\n",
              "      <td>1</td>\n",
              "      <td>0</td>\n",
              "    </tr>\n",
              "  </tbody>\n",
              "</table>\n",
              "</div>"
            ],
            "text/plain": [
              "   x1  x2  y\n",
              "0   0   0  0\n",
              "1   0   1  1\n",
              "2   1   0  1\n",
              "3   1   1  0"
            ]
          },
          "metadata": {},
          "execution_count": 23
        }
      ]
    },
    {
      "cell_type": "markdown",
      "metadata": {
        "id": "4jAJNc65D6-R"
      },
      "source": [
        "XOR MODEL will always through an error while training the model independent of the epochs( NON LINEAR)"
      ]
    },
    {
      "cell_type": "code",
      "metadata": {
        "colab": {
          "base_uri": "https://localhost:8080/"
        },
        "id": "qxFrLbmqBkpW",
        "outputId": "b9eb2e48-41a0-497f-b8d8-26566babd56e"
      },
      "source": [
        "X,y = prepare_data(df)\n",
        "\n",
        "LR = 0.3\n",
        "EPOCHS = 10\n",
        "\n",
        "model_XOR = Perceptron(lr=LR, epochs=EPOCHS)\n",
        "model_XOR.fit(X, y)\n",
        "\n",
        "_ = model_XOR.total_loss()"
      ],
      "execution_count": 40,
      "outputs": [
        {
          "output_type": "stream",
          "name": "stdout",
          "text": [
            "intial weights brfore training: [ 4.96714153e-05 -1.38264301e-05  6.47688538e-05]\n",
            "X with bias: [[ 0.  0. -1.]\n",
            " [ 0.  1. -1.]\n",
            " [ 1.  0. -1.]\n",
            " [ 1.  1. -1.]]\n",
            "--------------------\n",
            "for epoch: 0\n",
            "--------------------\n",
            "prdicted value after forward pass: \n",
            "[0 0 0 0]\n",
            "error : \n",
            "0    0\n",
            "1    1\n",
            "2    1\n",
            "3    1\n",
            "Name: y, dtype: int64\n",
            "updated weights after epoch : \n",
            "0/10 : \n",
            "[ 0.60004967  0.59998617 -0.89993523]\n",
            "############################################################\n",
            "--------------------\n",
            "for epoch: 1\n",
            "--------------------\n",
            "prdicted value after forward pass: \n",
            "[1 1 1 1]\n",
            "error : \n",
            "0   -1\n",
            "1    0\n",
            "2    0\n",
            "3    0\n",
            "Name: y, dtype: int64\n",
            "updated weights after epoch : \n",
            "1/10 : \n",
            "[ 0.60004967  0.59998617 -0.59993523]\n",
            "############################################################\n",
            "--------------------\n",
            "for epoch: 2\n",
            "--------------------\n",
            "prdicted value after forward pass: \n",
            "[1 1 1 1]\n",
            "error : \n",
            "0   -1\n",
            "1    0\n",
            "2    0\n",
            "3    0\n",
            "Name: y, dtype: int64\n",
            "updated weights after epoch : \n",
            "2/10 : \n",
            "[ 0.60004967  0.59998617 -0.29993523]\n",
            "############################################################\n",
            "--------------------\n",
            "for epoch: 3\n",
            "--------------------\n",
            "prdicted value after forward pass: \n",
            "[1 1 1 1]\n",
            "error : \n",
            "0   -1\n",
            "1    0\n",
            "2    0\n",
            "3    0\n",
            "Name: y, dtype: int64\n",
            "updated weights after epoch : \n",
            "3/10 : \n",
            "[6.00049671e-01 5.99986174e-01 6.47688538e-05]\n",
            "############################################################\n",
            "--------------------\n",
            "for epoch: 4\n",
            "--------------------\n",
            "prdicted value after forward pass: \n",
            "[0 1 1 1]\n",
            "error : \n",
            "0    0\n",
            "1    0\n",
            "2    0\n",
            "3    0\n",
            "Name: y, dtype: int64\n",
            "updated weights after epoch : \n",
            "4/10 : \n",
            "[6.00049671e-01 5.99986174e-01 6.47688538e-05]\n",
            "############################################################\n",
            "--------------------\n",
            "for epoch: 5\n",
            "--------------------\n",
            "prdicted value after forward pass: \n",
            "[0 1 1 1]\n",
            "error : \n",
            "0    0\n",
            "1    0\n",
            "2    0\n",
            "3    0\n",
            "Name: y, dtype: int64\n",
            "updated weights after epoch : \n",
            "5/10 : \n",
            "[6.00049671e-01 5.99986174e-01 6.47688538e-05]\n",
            "############################################################\n",
            "--------------------\n",
            "for epoch: 6\n",
            "--------------------\n",
            "prdicted value after forward pass: \n",
            "[0 1 1 1]\n",
            "error : \n",
            "0    0\n",
            "1    0\n",
            "2    0\n",
            "3    0\n",
            "Name: y, dtype: int64\n",
            "updated weights after epoch : \n",
            "6/10 : \n",
            "[6.00049671e-01 5.99986174e-01 6.47688538e-05]\n",
            "############################################################\n",
            "--------------------\n",
            "for epoch: 7\n",
            "--------------------\n",
            "prdicted value after forward pass: \n",
            "[0 1 1 1]\n",
            "error : \n",
            "0    0\n",
            "1    0\n",
            "2    0\n",
            "3    0\n",
            "Name: y, dtype: int64\n",
            "updated weights after epoch : \n",
            "7/10 : \n",
            "[6.00049671e-01 5.99986174e-01 6.47688538e-05]\n",
            "############################################################\n",
            "--------------------\n",
            "for epoch: 8\n",
            "--------------------\n",
            "prdicted value after forward pass: \n",
            "[0 1 1 1]\n",
            "error : \n",
            "0    0\n",
            "1    0\n",
            "2    0\n",
            "3    0\n",
            "Name: y, dtype: int64\n",
            "updated weights after epoch : \n",
            "8/10 : \n",
            "[6.00049671e-01 5.99986174e-01 6.47688538e-05]\n",
            "############################################################\n",
            "--------------------\n",
            "for epoch: 9\n",
            "--------------------\n",
            "prdicted value after forward pass: \n",
            "[0 1 1 1]\n",
            "error : \n",
            "0    0\n",
            "1    0\n",
            "2    0\n",
            "3    0\n",
            "Name: y, dtype: int64\n",
            "updated weights after epoch : \n",
            "9/10 : \n",
            "[6.00049671e-01 5.99986174e-01 6.47688538e-05]\n",
            "############################################################\n",
            "total loss : 0\n"
          ]
        }
      ]
    },
    {
      "cell_type": "code",
      "metadata": {
        "id": "MKrDo1gPGzR_"
      },
      "source": [
        "def save_plot(df, file_name, model):\n",
        "  def _create_base_plot(df):  #internal function\n",
        "    df.plot(kind=\"scatter\", x=\"x1\", y=\"x2\", c=\"y\", s=100, cmap=\"winter\")\n",
        "    plt.axhline(y=0, color = \"black\", linestyle=\"--\",linewidth = 1)\n",
        "    plt.axvline(x=0, color = \"black\", linestyle=\"--\",linewidth = 1)\n",
        "    figure = plt.gcf() #get current figure\n",
        "    figure.set_size_inches(10,8)\n",
        "\n",
        "  def _plot_decision_region(X,y,classifier,resolution=0.02):  #internal function\n",
        "    colors = (\"red\", \"blue\", \"lightgreen\", \"gray\", \"cyan\")\n",
        "    cmap = ListedColormap(colors[: len(np.unique(y))])\n",
        "\n",
        "    X = X.values #X as an array\n",
        "    x1 = X[:,0]\n",
        "    x2 = X[:,1]\n",
        "    x1_min, x1_max = x1.min() - 1 , x1.max() + 1 #finding minimum and ,maximum value in the x1[0] and x2[1] column\n",
        "    x2_min, x2_max = x2.min() - 1 , x2.max() + 1\n",
        "\n",
        "    xx1, xx2 = np.meshgrid(np.arange(x1_min, x1_max, resolution), \n",
        "                           np.arange(x2_min, x2_max, resolution))\n",
        "    print(xx1)\n",
        "    print(xx1.ravel())\n",
        "    \n",
        "    Z = classifier.predict(np.array([xx1.ravel(),xx2.ravel()]).T)\n",
        "    Z = Z.reshape(xx1.shape)\n",
        "    plt.contourf(xx1,xx2, Z, alpha =0.2, cmap=cmap) #ALPHA DENOTES TRANSPARENCY\n",
        "    plt.xlim(xx1.min(), xx1.max())\n",
        "    plt.ylim(xx2.min(), xx2.max())\n",
        "\n",
        "    plt.plot()\n",
        "\n",
        "  X,y = prepare_data(df)\n",
        "\n",
        "  _create_base_plot(df)\n",
        "  _plot_decision_region(X,y,model)\n",
        "\n",
        "  plot_dir = \"plots\"\n",
        "  os.makedirs(plot_dir, exist_ok=True)\n",
        "  plotpath = os.path.join(plot_dir, file_name)   #plots/filename\n",
        "  plt.savefig(plotpath)\n"
      ],
      "execution_count": 90,
      "outputs": []
    },
    {
      "cell_type": "code",
      "metadata": {
        "colab": {
          "base_uri": "https://localhost:8080/",
          "height": 175
        },
        "id": "sO0Z9Wf4ZMTc",
        "outputId": "a87cfdb8-1f48-4453-8c52-70cc52fb8406"
      },
      "source": [
        "OR = {\"x1\" : [0,0,1,1],\n",
        "      \"x2\" : [0,1,0,1],\n",
        "      \"y\"  : [0,1,1,1]\n",
        "}\n",
        "df = pd.DataFrame(OR)\n",
        "df"
      ],
      "execution_count": 91,
      "outputs": [
        {
          "output_type": "execute_result",
          "data": {
            "text/html": [
              "<div>\n",
              "<style scoped>\n",
              "    .dataframe tbody tr th:only-of-type {\n",
              "        vertical-align: middle;\n",
              "    }\n",
              "\n",
              "    .dataframe tbody tr th {\n",
              "        vertical-align: top;\n",
              "    }\n",
              "\n",
              "    .dataframe thead th {\n",
              "        text-align: right;\n",
              "    }\n",
              "</style>\n",
              "<table border=\"1\" class=\"dataframe\">\n",
              "  <thead>\n",
              "    <tr style=\"text-align: right;\">\n",
              "      <th></th>\n",
              "      <th>x1</th>\n",
              "      <th>x2</th>\n",
              "      <th>y</th>\n",
              "    </tr>\n",
              "  </thead>\n",
              "  <tbody>\n",
              "    <tr>\n",
              "      <th>0</th>\n",
              "      <td>0</td>\n",
              "      <td>0</td>\n",
              "      <td>0</td>\n",
              "    </tr>\n",
              "    <tr>\n",
              "      <th>1</th>\n",
              "      <td>0</td>\n",
              "      <td>1</td>\n",
              "      <td>1</td>\n",
              "    </tr>\n",
              "    <tr>\n",
              "      <th>2</th>\n",
              "      <td>1</td>\n",
              "      <td>0</td>\n",
              "      <td>1</td>\n",
              "    </tr>\n",
              "    <tr>\n",
              "      <th>3</th>\n",
              "      <td>1</td>\n",
              "      <td>1</td>\n",
              "      <td>1</td>\n",
              "    </tr>\n",
              "  </tbody>\n",
              "</table>\n",
              "</div>"
            ],
            "text/plain": [
              "   x1  x2  y\n",
              "0   0   0  0\n",
              "1   0   1  1\n",
              "2   1   0  1\n",
              "3   1   1  1"
            ]
          },
          "metadata": {},
          "execution_count": 91
        }
      ]
    },
    {
      "cell_type": "code",
      "metadata": {
        "colab": {
          "base_uri": "https://localhost:8080/"
        },
        "id": "6nidN71jZRYv",
        "outputId": "20dab095-0ec8-4583-a1c6-c8f1f3e1faf9"
      },
      "source": [
        "X,y = prepare_data(df)\n",
        "\n",
        "LR = 0.3\n",
        "EPOCHS = 5\n",
        "\n",
        "model_OR = Perceptron(lr=LR, epochs=EPOCHS)\n",
        "model_OR.fit(X, y)\n",
        "\n",
        "_ = model_OR.total_loss()"
      ],
      "execution_count": 92,
      "outputs": [
        {
          "output_type": "stream",
          "name": "stdout",
          "text": [
            "intial weights brfore training: [ 4.96714153e-05 -1.38264301e-05  6.47688538e-05]\n",
            "X with bias: [[ 0.  0. -1.]\n",
            " [ 0.  1. -1.]\n",
            " [ 1.  0. -1.]\n",
            " [ 1.  1. -1.]]\n",
            "--------------------\n",
            "for epoch: 0\n",
            "--------------------\n",
            "prdicted value after forward pass: \n",
            "[0 0 0 0]\n",
            "error : \n",
            "0    0\n",
            "1    1\n",
            "2    1\n",
            "3    1\n",
            "Name: y, dtype: int64\n",
            "updated weights after epoch : \n",
            "0/5 : \n",
            "[ 0.60004967  0.59998617 -0.89993523]\n",
            "############################################################\n",
            "--------------------\n",
            "for epoch: 1\n",
            "--------------------\n",
            "prdicted value after forward pass: \n",
            "[1 1 1 1]\n",
            "error : \n",
            "0   -1\n",
            "1    0\n",
            "2    0\n",
            "3    0\n",
            "Name: y, dtype: int64\n",
            "updated weights after epoch : \n",
            "1/5 : \n",
            "[ 0.60004967  0.59998617 -0.59993523]\n",
            "############################################################\n",
            "--------------------\n",
            "for epoch: 2\n",
            "--------------------\n",
            "prdicted value after forward pass: \n",
            "[1 1 1 1]\n",
            "error : \n",
            "0   -1\n",
            "1    0\n",
            "2    0\n",
            "3    0\n",
            "Name: y, dtype: int64\n",
            "updated weights after epoch : \n",
            "2/5 : \n",
            "[ 0.60004967  0.59998617 -0.29993523]\n",
            "############################################################\n",
            "--------------------\n",
            "for epoch: 3\n",
            "--------------------\n",
            "prdicted value after forward pass: \n",
            "[1 1 1 1]\n",
            "error : \n",
            "0   -1\n",
            "1    0\n",
            "2    0\n",
            "3    0\n",
            "Name: y, dtype: int64\n",
            "updated weights after epoch : \n",
            "3/5 : \n",
            "[6.00049671e-01 5.99986174e-01 6.47688538e-05]\n",
            "############################################################\n",
            "--------------------\n",
            "for epoch: 4\n",
            "--------------------\n",
            "prdicted value after forward pass: \n",
            "[0 1 1 1]\n",
            "error : \n",
            "0    0\n",
            "1    0\n",
            "2    0\n",
            "3    0\n",
            "Name: y, dtype: int64\n",
            "updated weights after epoch : \n",
            "4/5 : \n",
            "[6.00049671e-01 5.99986174e-01 6.47688538e-05]\n",
            "############################################################\n",
            "total loss : 0\n"
          ]
        }
      ]
    },
    {
      "cell_type": "code",
      "metadata": {
        "colab": {
          "base_uri": "https://localhost:8080/",
          "height": 681
        },
        "id": "OQAPy22HYmlL",
        "outputId": "33b08605-89cf-4da5-a35b-cd4eb2be2de4"
      },
      "source": [
        "save_plot(df,\"or.png\",model_OR)"
      ],
      "execution_count": 93,
      "outputs": [
        {
          "output_type": "stream",
          "name": "stdout",
          "text": [
            "[[-1.   -0.98 -0.96 ...  1.94  1.96  1.98]\n",
            " [-1.   -0.98 -0.96 ...  1.94  1.96  1.98]\n",
            " [-1.   -0.98 -0.96 ...  1.94  1.96  1.98]\n",
            " ...\n",
            " [-1.   -0.98 -0.96 ...  1.94  1.96  1.98]\n",
            " [-1.   -0.98 -0.96 ...  1.94  1.96  1.98]\n",
            " [-1.   -0.98 -0.96 ...  1.94  1.96  1.98]]\n",
            "[-1.   -0.98 -0.96 ...  1.94  1.96  1.98]\n"
          ]
        },
        {
          "output_type": "display_data",
          "data": {
            "image/png": "[encoded data removed]",
            "text/plain": [
              "<Figure size 720x576 with 2 Axes>"
            ]
          },
          "metadata": {}
        }
      ]
    },
    {
      "cell_type": "code",
      "metadata": {
        "colab": {
          "base_uri": "https://localhost:8080/",
          "height": 175
        },
        "id": "ywdXMD0wigGj",
        "outputId": "b7b4a93e-b07e-4642-ae54-bd266294565f"
      },
      "source": [
        "AND = {\n",
        "      \"x1\" : [0,0,1,1],\n",
        "      \"x2\" : [0,1,0,1],\n",
        "      \"y\" : [0,0,0,1],\n",
        "\n",
        "}\n",
        "df = pd.DataFrame(AND)\n",
        "\n",
        "df"
      ],
      "execution_count": 97,
      "outputs": [
        {
          "output_type": "execute_result",
          "data": {
            "text/html": [
              "<div>\n",
              "<style scoped>\n",
              "    .dataframe tbody tr th:only-of-type {\n",
              "        vertical-align: middle;\n",
              "    }\n",
              "\n",
              "    .dataframe tbody tr th {\n",
              "        vertical-align: top;\n",
              "    }\n",
              "\n",
              "    .dataframe thead th {\n",
              "        text-align: right;\n",
              "    }\n",
              "</style>\n",
              "<table border=\"1\" class=\"dataframe\">\n",
              "  <thead>\n",
              "    <tr style=\"text-align: right;\">\n",
              "      <th></th>\n",
              "      <th>x1</th>\n",
              "      <th>x2</th>\n",
              "      <th>y</th>\n",
              "    </tr>\n",
              "  </thead>\n",
              "  <tbody>\n",
              "    <tr>\n",
              "      <th>0</th>\n",
              "      <td>0</td>\n",
              "      <td>0</td>\n",
              "      <td>0</td>\n",
              "    </tr>\n",
              "    <tr>\n",
              "      <th>1</th>\n",
              "      <td>0</td>\n",
              "      <td>1</td>\n",
              "      <td>0</td>\n",
              "    </tr>\n",
              "    <tr>\n",
              "      <th>2</th>\n",
              "      <td>1</td>\n",
              "      <td>0</td>\n",
              "      <td>0</td>\n",
              "    </tr>\n",
              "    <tr>\n",
              "      <th>3</th>\n",
              "      <td>1</td>\n",
              "      <td>1</td>\n",
              "      <td>1</td>\n",
              "    </tr>\n",
              "  </tbody>\n",
              "</table>\n",
              "</div>"
            ],
            "text/plain": [
              "   x1  x2  y\n",
              "0   0   0  0\n",
              "1   0   1  0\n",
              "2   1   0  0\n",
              "3   1   1  1"
            ]
          },
          "metadata": {},
          "execution_count": 97
        }
      ]
    },
    {
      "cell_type": "code",
      "metadata": {
        "colab": {
          "base_uri": "https://localhost:8080/"
        },
        "id": "FtDjn2z-lukq",
        "outputId": "545f5b51-61df-4728-a2f4-14eda1140d40"
      },
      "source": [
        "X,y = prepare_data(df)\n",
        "\n",
        "LR = 0.3\n",
        "EPOCHS = 5\n",
        "\n",
        "model_AND = Perceptron(lr=LR, epochs=EPOCHS)\n",
        "model_AND.fit(X, y)\n",
        "\n",
        "_ = model_AND.total_loss()"
      ],
      "execution_count": 98,
      "outputs": [
        {
          "output_type": "stream",
          "name": "stdout",
          "text": [
            "intial weights brfore training: [ 4.96714153e-05 -1.38264301e-05  6.47688538e-05]\n",
            "X with bias: [[ 0.  0. -1.]\n",
            " [ 0.  1. -1.]\n",
            " [ 1.  0. -1.]\n",
            " [ 1.  1. -1.]]\n",
            "--------------------\n",
            "for epoch: 0\n",
            "--------------------\n",
            "prdicted value after forward pass: \n",
            "[0 0 0 0]\n",
            "error : \n",
            "0    0\n",
            "1    0\n",
            "2    0\n",
            "3    1\n",
            "Name: y, dtype: int64\n",
            "updated weights after epoch : \n",
            "0/5 : \n",
            "[ 0.30004967  0.29998617 -0.29993523]\n",
            "############################################################\n",
            "--------------------\n",
            "for epoch: 1\n",
            "--------------------\n",
            "prdicted value after forward pass: \n",
            "[1 1 1 1]\n",
            "error : \n",
            "0   -1\n",
            "1   -1\n",
            "2   -1\n",
            "3    0\n",
            "Name: y, dtype: int64\n",
            "updated weights after epoch : \n",
            "1/5 : \n",
            "[ 4.96714153e-05 -1.38264301e-05  6.00064769e-01]\n",
            "############################################################\n",
            "--------------------\n",
            "for epoch: 2\n",
            "--------------------\n",
            "prdicted value after forward pass: \n",
            "[0 0 0 0]\n",
            "error : \n",
            "0    0\n",
            "1    0\n",
            "2    0\n",
            "3    1\n",
            "Name: y, dtype: int64\n",
            "updated weights after epoch : \n",
            "2/5 : \n",
            "[0.30004967 0.29998617 0.30006477]\n",
            "############################################################\n",
            "--------------------\n",
            "for epoch: 3\n",
            "--------------------\n",
            "prdicted value after forward pass: \n",
            "[0 0 0 1]\n",
            "error : \n",
            "0    0\n",
            "1    0\n",
            "2    0\n",
            "3    0\n",
            "Name: y, dtype: int64\n",
            "updated weights after epoch : \n",
            "3/5 : \n",
            "[0.30004967 0.29998617 0.30006477]\n",
            "############################################################\n",
            "--------------------\n",
            "for epoch: 4\n",
            "--------------------\n",
            "prdicted value after forward pass: \n",
            "[0 0 0 1]\n",
            "error : \n",
            "0    0\n",
            "1    0\n",
            "2    0\n",
            "3    0\n",
            "Name: y, dtype: int64\n",
            "updated weights after epoch : \n",
            "4/5 : \n",
            "[0.30004967 0.29998617 0.30006477]\n",
            "############################################################\n",
            "total loss : 0\n"
          ]
        }
      ]
    },
    {
      "cell_type": "code",
      "metadata": {
        "colab": {
          "base_uri": "https://localhost:8080/",
          "height": 681
        },
        "id": "6fsjd5dxl-WM",
        "outputId": "0f690290-4209-493f-b372-38bdccf87dea"
      },
      "source": [
        "save_plot(df,\"and.png\",model_AND)"
      ],
      "execution_count": 99,
      "outputs": [
        {
          "output_type": "stream",
          "name": "stdout",
          "text": [
            "[[-1.   -0.98 -0.96 ...  1.94  1.96  1.98]\n",
            " [-1.   -0.98 -0.96 ...  1.94  1.96  1.98]\n",
            " [-1.   -0.98 -0.96 ...  1.94  1.96  1.98]\n",
            " ...\n",
            " [-1.   -0.98 -0.96 ...  1.94  1.96  1.98]\n",
            " [-1.   -0.98 -0.96 ...  1.94  1.96  1.98]\n",
            " [-1.   -0.98 -0.96 ...  1.94  1.96  1.98]]\n",
            "[-1.   -0.98 -0.96 ...  1.94  1.96  1.98]\n"
          ]
        },
        {
          "output_type": "display_data",
          "data": {
            "image/png": "[encoded data removed]",
            "text/plain": [
              "<Figure size 720x576 with 2 Axes>"
            ]
          },
          "metadata": {}
        }
      ]
    },
    {
      "cell_type": "code",
      "metadata": {
        "colab": {
          "base_uri": "https://localhost:8080/",
          "height": 175
        },
        "id": "Wt-qggLbnLlw",
        "outputId": "e4ed8eed-9fe8-4a96-fed8-470367a75a9d"
      },
      "source": [
        "XOR = {\"x1\" : [0,0,1,1],\n",
        "      \"x2\" : [0,1,0,1],\n",
        "      \"y\"  : [0,1,1,0]\n",
        "}\n",
        "df = pd.DataFrame(XOR)\n",
        "df"
      ],
      "execution_count": 100,
      "outputs": [
        {
          "output_type": "execute_result",
          "data": {
            "text/html": [
              "<div>\n",
              "<style scoped>\n",
              "    .dataframe tbody tr th:only-of-type {\n",
              "        vertical-align: middle;\n",
              "    }\n",
              "\n",
              "    .dataframe tbody tr th {\n",
              "        vertical-align: top;\n",
              "    }\n",
              "\n",
              "    .dataframe thead th {\n",
              "        text-align: right;\n",
              "    }\n",
              "</style>\n",
              "<table border=\"1\" class=\"dataframe\">\n",
              "  <thead>\n",
              "    <tr style=\"text-align: right;\">\n",
              "      <th></th>\n",
              "      <th>x1</th>\n",
              "      <th>x2</th>\n",
              "      <th>y</th>\n",
              "    </tr>\n",
              "  </thead>\n",
              "  <tbody>\n",
              "    <tr>\n",
              "      <th>0</th>\n",
              "      <td>0</td>\n",
              "      <td>0</td>\n",
              "      <td>0</td>\n",
              "    </tr>\n",
              "    <tr>\n",
              "      <th>1</th>\n",
              "      <td>0</td>\n",
              "      <td>1</td>\n",
              "      <td>1</td>\n",
              "    </tr>\n",
              "    <tr>\n",
              "      <th>2</th>\n",
              "      <td>1</td>\n",
              "      <td>0</td>\n",
              "      <td>1</td>\n",
              "    </tr>\n",
              "    <tr>\n",
              "      <th>3</th>\n",
              "      <td>1</td>\n",
              "      <td>1</td>\n",
              "      <td>0</td>\n",
              "    </tr>\n",
              "  </tbody>\n",
              "</table>\n",
              "</div>"
            ],
            "text/plain": [
              "   x1  x2  y\n",
              "0   0   0  0\n",
              "1   0   1  1\n",
              "2   1   0  1\n",
              "3   1   1  0"
            ]
          },
          "metadata": {},
          "execution_count": 100
        }
      ]
    },
    {
      "cell_type": "code",
      "metadata": {
        "colab": {
          "base_uri": "https://localhost:8080/"
        },
        "id": "UC42c2eYnUEf",
        "outputId": "5b47da62-8dcf-49f9-95db-141e755d32b7"
      },
      "source": [
        "X,y = prepare_data(df)\n",
        "\n",
        "LR = 0.3\n",
        "EPOCHS = 10\n",
        "\n",
        "model_XOR = Perceptron(lr=LR, epochs=EPOCHS)\n",
        "model_XOR.fit(X, y)\n",
        "\n",
        "_ = model_XOR.total_loss()"
      ],
      "execution_count": 101,
      "outputs": [
        {
          "output_type": "stream",
          "name": "stdout",
          "text": [
            "intial weights brfore training: [ 4.96714153e-05 -1.38264301e-05  6.47688538e-05]\n",
            "X with bias: [[ 0.  0. -1.]\n",
            " [ 0.  1. -1.]\n",
            " [ 1.  0. -1.]\n",
            " [ 1.  1. -1.]]\n",
            "--------------------\n",
            "for epoch: 0\n",
            "--------------------\n",
            "prdicted value after forward pass: \n",
            "[0 0 0 0]\n",
            "error : \n",
            "0    0\n",
            "1    1\n",
            "2    1\n",
            "3    0\n",
            "Name: y, dtype: int64\n",
            "updated weights after epoch : \n",
            "0/10 : \n",
            "[ 0.30004967  0.29998617 -0.59993523]\n",
            "############################################################\n",
            "--------------------\n",
            "for epoch: 1\n",
            "--------------------\n",
            "prdicted value after forward pass: \n",
            "[1 1 1 1]\n",
            "error : \n",
            "0   -1\n",
            "1    0\n",
            "2    0\n",
            "3   -1\n",
            "Name: y, dtype: int64\n",
            "updated weights after epoch : \n",
            "1/10 : \n",
            "[ 4.96714153e-05 -1.38264301e-05  6.47688538e-05]\n",
            "############################################################\n",
            "--------------------\n",
            "for epoch: 2\n",
            "--------------------\n",
            "prdicted value after forward pass: \n",
            "[0 0 0 0]\n",
            "error : \n",
            "0    0\n",
            "1    1\n",
            "2    1\n",
            "3    0\n",
            "Name: y, dtype: int64\n",
            "updated weights after epoch : \n",
            "2/10 : \n",
            "[ 0.30004967  0.29998617 -0.59993523]\n",
            "############################################################\n",
            "--------------------\n",
            "for epoch: 3\n",
            "--------------------\n",
            "prdicted value after forward pass: \n",
            "[1 1 1 1]\n",
            "error : \n",
            "0   -1\n",
            "1    0\n",
            "2    0\n",
            "3   -1\n",
            "Name: y, dtype: int64\n",
            "updated weights after epoch : \n",
            "3/10 : \n",
            "[ 4.96714153e-05 -1.38264301e-05  6.47688538e-05]\n",
            "############################################################\n",
            "--------------------\n",
            "for epoch: 4\n",
            "--------------------\n",
            "prdicted value after forward pass: \n",
            "[0 0 0 0]\n",
            "error : \n",
            "0    0\n",
            "1    1\n",
            "2    1\n",
            "3    0\n",
            "Name: y, dtype: int64\n",
            "updated weights after epoch : \n",
            "4/10 : \n",
            "[ 0.30004967  0.29998617 -0.59993523]\n",
            "############################################################\n",
            "--------------------\n",
            "for epoch: 5\n",
            "--------------------\n",
            "prdicted value after forward pass: \n",
            "[1 1 1 1]\n",
            "error : \n",
            "0   -1\n",
            "1    0\n",
            "2    0\n",
            "3   -1\n",
            "Name: y, dtype: int64\n",
            "updated weights after epoch : \n",
            "5/10 : \n",
            "[ 4.96714153e-05 -1.38264301e-05  6.47688538e-05]\n",
            "############################################################\n",
            "--------------------\n",
            "for epoch: 6\n",
            "--------------------\n",
            "prdicted value after forward pass: \n",
            "[0 0 0 0]\n",
            "error : \n",
            "0    0\n",
            "1    1\n",
            "2    1\n",
            "3    0\n",
            "Name: y, dtype: int64\n",
            "updated weights after epoch : \n",
            "6/10 : \n",
            "[ 0.30004967  0.29998617 -0.59993523]\n",
            "############################################################\n",
            "--------------------\n",
            "for epoch: 7\n",
            "--------------------\n",
            "prdicted value after forward pass: \n",
            "[1 1 1 1]\n",
            "error : \n",
            "0   -1\n",
            "1    0\n",
            "2    0\n",
            "3   -1\n",
            "Name: y, dtype: int64\n",
            "updated weights after epoch : \n",
            "7/10 : \n",
            "[ 4.96714153e-05 -1.38264301e-05  6.47688538e-05]\n",
            "############################################################\n",
            "--------------------\n",
            "for epoch: 8\n",
            "--------------------\n",
            "prdicted value after forward pass: \n",
            "[0 0 0 0]\n",
            "error : \n",
            "0    0\n",
            "1    1\n",
            "2    1\n",
            "3    0\n",
            "Name: y, dtype: int64\n",
            "updated weights after epoch : \n",
            "8/10 : \n",
            "[ 0.30004967  0.29998617 -0.59993523]\n",
            "############################################################\n",
            "--------------------\n",
            "for epoch: 9\n",
            "--------------------\n",
            "prdicted value after forward pass: \n",
            "[1 1 1 1]\n",
            "error : \n",
            "0   -1\n",
            "1    0\n",
            "2    0\n",
            "3   -1\n",
            "Name: y, dtype: int64\n",
            "updated weights after epoch : \n",
            "9/10 : \n",
            "[ 4.96714153e-05 -1.38264301e-05  6.47688538e-05]\n",
            "############################################################\n",
            "total loss : -2\n"
          ]
        }
      ]
    },
    {
      "cell_type": "code",
      "metadata": {
        "colab": {
          "base_uri": "https://localhost:8080/",
          "height": 681
        },
        "id": "H8AlpBgJnWNs",
        "outputId": "f841f548-0ddd-431e-f6f4-da1aa6caa4ed"
      },
      "source": [
        "save_plot(df,\"XOR.png\",model_XOR)"
      ],
      "execution_count": 102,
      "outputs": [
        {
          "output_type": "stream",
          "name": "stdout",
          "text": [
            "[[-1.   -0.98 -0.96 ...  1.94  1.96  1.98]\n",
            " [-1.   -0.98 -0.96 ...  1.94  1.96  1.98]\n",
            " [-1.   -0.98 -0.96 ...  1.94  1.96  1.98]\n",
            " ...\n",
            " [-1.   -0.98 -0.96 ...  1.94  1.96  1.98]\n",
            " [-1.   -0.98 -0.96 ...  1.94  1.96  1.98]\n",
            " [-1.   -0.98 -0.96 ...  1.94  1.96  1.98]]\n",
            "[-1.   -0.98 -0.96 ...  1.94  1.96  1.98]\n"
          ]
        },
        {
          "output_type": "display_data",
          "data": {
            "image/png": "[encoded data removed]",
            "text/plain": [
              "<Figure size 720x576 with 2 Axes>"
            ]
          },
          "metadata": {}
        }
      ]
    },
    {
      "cell_type": "code",
      "metadata": {
        "colab": {
          "base_uri": "https://localhost:8080/",
          "height": 175
        },
        "id": "Rv78IRKqrTW3",
        "outputId": "4d5e8232-913f-4594-c40b-7ab7df4cd30a"
      },
      "source": [
        "NAND = {\n",
        "      \"x1\" : [0,0,1,1],\n",
        "      \"x2\" : [0,1,0,1],\n",
        "      \"y\" : [1,1,1,0],\n",
        "\n",
        "}\n",
        "df = pd.DataFrame(NAND)\n",
        "\n",
        "df"
      ],
      "execution_count": 104,
      "outputs": [
        {
          "output_type": "execute_result",
          "data": {
            "text/html": [
              "<div>\n",
              "<style scoped>\n",
              "    .dataframe tbody tr th:only-of-type {\n",
              "        vertical-align: middle;\n",
              "    }\n",
              "\n",
              "    .dataframe tbody tr th {\n",
              "        vertical-align: top;\n",
              "    }\n",
              "\n",
              "    .dataframe thead th {\n",
              "        text-align: right;\n",
              "    }\n",
              "</style>\n",
              "<table border=\"1\" class=\"dataframe\">\n",
              "  <thead>\n",
              "    <tr style=\"text-align: right;\">\n",
              "      <th></th>\n",
              "      <th>x1</th>\n",
              "      <th>x2</th>\n",
              "      <th>y</th>\n",
              "    </tr>\n",
              "  </thead>\n",
              "  <tbody>\n",
              "    <tr>\n",
              "      <th>0</th>\n",
              "      <td>0</td>\n",
              "      <td>0</td>\n",
              "      <td>1</td>\n",
              "    </tr>\n",
              "    <tr>\n",
              "      <th>1</th>\n",
              "      <td>0</td>\n",
              "      <td>1</td>\n",
              "      <td>1</td>\n",
              "    </tr>\n",
              "    <tr>\n",
              "      <th>2</th>\n",
              "      <td>1</td>\n",
              "      <td>0</td>\n",
              "      <td>1</td>\n",
              "    </tr>\n",
              "    <tr>\n",
              "      <th>3</th>\n",
              "      <td>1</td>\n",
              "      <td>1</td>\n",
              "      <td>0</td>\n",
              "    </tr>\n",
              "  </tbody>\n",
              "</table>\n",
              "</div>"
            ],
            "text/plain": [
              "   x1  x2  y\n",
              "0   0   0  1\n",
              "1   0   1  1\n",
              "2   1   0  1\n",
              "3   1   1  0"
            ]
          },
          "metadata": {},
          "execution_count": 104
        }
      ]
    },
    {
      "cell_type": "code",
      "metadata": {
        "colab": {
          "base_uri": "https://localhost:8080/"
        },
        "id": "8QE2BMJTrWKP",
        "outputId": "47d46adc-83b0-47f6-a588-102853f8ae9f"
      },
      "source": [
        "X,y = prepare_data(df)\n",
        "\n",
        "LR = 0.3\n",
        "EPOCHS = 10\n",
        "\n",
        "model_NAND = Perceptron(lr=LR, epochs=EPOCHS)\n",
        "model_NAND.fit(X, y)\n",
        "\n",
        "_ = model_NAND.total_loss()"
      ],
      "execution_count": 105,
      "outputs": [
        {
          "output_type": "stream",
          "name": "stdout",
          "text": [
            "intial weights brfore training: [ 4.96714153e-05 -1.38264301e-05  6.47688538e-05]\n",
            "X with bias: [[ 0.  0. -1.]\n",
            " [ 0.  1. -1.]\n",
            " [ 1.  0. -1.]\n",
            " [ 1.  1. -1.]]\n",
            "--------------------\n",
            "for epoch: 0\n",
            "--------------------\n",
            "prdicted value after forward pass: \n",
            "[0 0 0 0]\n",
            "error : \n",
            "0    1\n",
            "1    1\n",
            "2    1\n",
            "3    0\n",
            "Name: y, dtype: int64\n",
            "updated weights after epoch : \n",
            "0/10 : \n",
            "[ 0.30004967  0.29998617 -0.89993523]\n",
            "############################################################\n",
            "--------------------\n",
            "for epoch: 1\n",
            "--------------------\n",
            "prdicted value after forward pass: \n",
            "[1 1 1 1]\n",
            "error : \n",
            "0    0\n",
            "1    0\n",
            "2    0\n",
            "3   -1\n",
            "Name: y, dtype: int64\n",
            "updated weights after epoch : \n",
            "1/10 : \n",
            "[ 4.96714153e-05 -1.38264301e-05 -5.99935231e-01]\n",
            "############################################################\n",
            "--------------------\n",
            "for epoch: 2\n",
            "--------------------\n",
            "prdicted value after forward pass: \n",
            "[1 1 1 1]\n",
            "error : \n",
            "0    0\n",
            "1    0\n",
            "2    0\n",
            "3   -1\n",
            "Name: y, dtype: int64\n",
            "updated weights after epoch : \n",
            "2/10 : \n",
            "[-0.29995033 -0.30001383 -0.29993523]\n",
            "############################################################\n",
            "--------------------\n",
            "for epoch: 3\n",
            "--------------------\n",
            "prdicted value after forward pass: \n",
            "[1 0 0 0]\n",
            "error : \n",
            "0    0\n",
            "1    1\n",
            "2    1\n",
            "3    0\n",
            "Name: y, dtype: int64\n",
            "updated weights after epoch : \n",
            "3/10 : \n",
            "[ 4.96714153e-05 -1.38264301e-05 -8.99935231e-01]\n",
            "############################################################\n",
            "--------------------\n",
            "for epoch: 4\n",
            "--------------------\n",
            "prdicted value after forward pass: \n",
            "[1 1 1 1]\n",
            "error : \n",
            "0    0\n",
            "1    0\n",
            "2    0\n",
            "3   -1\n",
            "Name: y, dtype: int64\n",
            "updated weights after epoch : \n",
            "4/10 : \n",
            "[-0.29995033 -0.30001383 -0.59993523]\n",
            "############################################################\n",
            "--------------------\n",
            "for epoch: 5\n",
            "--------------------\n",
            "prdicted value after forward pass: \n",
            "[1 1 1 0]\n",
            "error : \n",
            "0    0\n",
            "1    0\n",
            "2    0\n",
            "3    0\n",
            "Name: y, dtype: int64\n",
            "updated weights after epoch : \n",
            "5/10 : \n",
            "[-0.29995033 -0.30001383 -0.59993523]\n",
            "############################################################\n",
            "--------------------\n",
            "for epoch: 6\n",
            "--------------------\n",
            "prdicted value after forward pass: \n",
            "[1 1 1 0]\n",
            "error : \n",
            "0    0\n",
            "1    0\n",
            "2    0\n",
            "3    0\n",
            "Name: y, dtype: int64\n",
            "updated weights after epoch : \n",
            "6/10 : \n",
            "[-0.29995033 -0.30001383 -0.59993523]\n",
            "############################################################\n",
            "--------------------\n",
            "for epoch: 7\n",
            "--------------------\n",
            "prdicted value after forward pass: \n",
            "[1 1 1 0]\n",
            "error : \n",
            "0    0\n",
            "1    0\n",
            "2    0\n",
            "3    0\n",
            "Name: y, dtype: int64\n",
            "updated weights after epoch : \n",
            "7/10 : \n",
            "[-0.29995033 -0.30001383 -0.59993523]\n",
            "############################################################\n",
            "--------------------\n",
            "for epoch: 8\n",
            "--------------------\n",
            "prdicted value after forward pass: \n",
            "[1 1 1 0]\n",
            "error : \n",
            "0    0\n",
            "1    0\n",
            "2    0\n",
            "3    0\n",
            "Name: y, dtype: int64\n",
            "updated weights after epoch : \n",
            "8/10 : \n",
            "[-0.29995033 -0.30001383 -0.59993523]\n",
            "############################################################\n",
            "--------------------\n",
            "for epoch: 9\n",
            "--------------------\n",
            "prdicted value after forward pass: \n",
            "[1 1 1 0]\n",
            "error : \n",
            "0    0\n",
            "1    0\n",
            "2    0\n",
            "3    0\n",
            "Name: y, dtype: int64\n",
            "updated weights after epoch : \n",
            "9/10 : \n",
            "[-0.29995033 -0.30001383 -0.59993523]\n",
            "############################################################\n",
            "total loss : 0\n"
          ]
        }
      ]
    },
    {
      "cell_type": "code",
      "metadata": {
        "colab": {
          "base_uri": "https://localhost:8080/",
          "height": 681
        },
        "id": "6YGzHSh9rfbE",
        "outputId": "821c2593-670f-4184-d07a-2bb16e1d8b44"
      },
      "source": [
        "save_plot(df,\"NAND.png\",model_NAND)"
      ],
      "execution_count": 106,
      "outputs": [
        {
          "output_type": "stream",
          "name": "stdout",
          "text": [
            "[[-1.   -0.98 -0.96 ...  1.94  1.96  1.98]\n",
            " [-1.   -0.98 -0.96 ...  1.94  1.96  1.98]\n",
            " [-1.   -0.98 -0.96 ...  1.94  1.96  1.98]\n",
            " ...\n",
            " [-1.   -0.98 -0.96 ...  1.94  1.96  1.98]\n",
            " [-1.   -0.98 -0.96 ...  1.94  1.96  1.98]\n",
            " [-1.   -0.98 -0.96 ...  1.94  1.96  1.98]]\n",
            "[-1.   -0.98 -0.96 ...  1.94  1.96  1.98]\n"
          ]
        },
        {
          "output_type": "display_data",
          "data": {
            "image/png": "[encoded data removed]",
            "text/plain": [
              "<Figure size 720x576 with 2 Axes>"
            ]
          },
          "metadata": {}
        }
      ]
    }
  ]
}